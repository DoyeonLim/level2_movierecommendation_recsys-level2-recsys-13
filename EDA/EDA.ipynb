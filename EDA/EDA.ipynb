{
 "cells": [
  {
   "cell_type": "code",
   "execution_count": 1,
   "id": "c1c20ebe-c613-4d93-b844-899dd3ec98c6",
   "metadata": {},
   "outputs": [],
   "source": [
    "import pandas as pd\n",
    "import numpy as np\n",
    "import os\n",
    "from os.path import join\n",
    "\n",
    "data_path = './data/train'\n",
    "inter_df = pd.read_csv(os.path.join(data_path, 'train_ratings.csv')) # 전체 학습 데이터\n",
    "genre_df = pd.read_csv(join(data_path, 'genres.tsv'), sep='\\t')\n",
    "title_df = pd.read_csv(join(data_path, 'titles.tsv'), sep='\\t')\n",
    "director_df = pd.read_csv(join(data_path, 'directors.tsv'), sep='\\t')\n",
    "writer_df = pd.read_csv(join(data_path, 'writers.tsv'), sep='\\t')\n",
    "year_df = pd.read_csv(join(data_path, 'years.tsv'), sep='\\t')"
   ]
  },
  {
   "cell_type": "markdown",
   "id": "00d22cfe-17f6-4b64-8211-6efddccf75eb",
   "metadata": {},
   "source": [
    "### interactions"
   ]
  },
  {
   "cell_type": "code",
   "execution_count": 4,
   "id": "854faf4c-28e3-4f6e-9dda-d94f58c855ff",
   "metadata": {},
   "outputs": [
    {
     "name": "stdout",
     "output_type": "stream",
     "text": [
      "Number of unique train users:  31360\n",
      "Number of unique train items:  6807\n"
     ]
    }
   ],
   "source": [
    "num_train_users = inter_df['user'].nunique()\n",
    "num_train_items = inter_df['item'].nunique()\n",
    "print (\"Number of unique train users: \", num_train_users)\n",
    "print (\"Number of unique train items: \", num_train_items)"
   ]
  },
  {
   "cell_type": "code",
   "execution_count": 5,
   "id": "75a955a5-fd6b-4c57-9435-4e3f8ca49dac",
   "metadata": {},
   "outputs": [
    {
     "name": "stdout",
     "output_type": "stream",
     "text": [
      "Data sparsity ratio:  0.9758536052697853\n"
     ]
    }
   ],
   "source": [
    "print(\"Data sparsity ratio: \", 1 - len(inter_df) / (num_train_users * num_train_items))"
   ]
  },
  {
   "cell_type": "markdown",
   "id": "20ffe774-75f4-459c-983e-136d3f22de79",
   "metadata": {},
   "source": [
    "### genres"
   ]
  },
  {
   "cell_type": "code",
   "execution_count": 6,
   "id": "afd03892-3d03-4f15-93f6-29e7e2d474de",
   "metadata": {},
   "outputs": [
    {
     "data": {
      "text/html": [
       "<div>\n",
       "<style scoped>\n",
       "    .dataframe tbody tr th:only-of-type {\n",
       "        vertical-align: middle;\n",
       "    }\n",
       "\n",
       "    .dataframe tbody tr th {\n",
       "        vertical-align: top;\n",
       "    }\n",
       "\n",
       "    .dataframe thead th {\n",
       "        text-align: right;\n",
       "    }\n",
       "</style>\n",
       "<table border=\"1\" class=\"dataframe\">\n",
       "  <thead>\n",
       "    <tr style=\"text-align: right;\">\n",
       "      <th></th>\n",
       "      <th>item</th>\n",
       "      <th>genre</th>\n",
       "    </tr>\n",
       "  </thead>\n",
       "  <tbody>\n",
       "    <tr>\n",
       "      <th>0</th>\n",
       "      <td>318</td>\n",
       "      <td>Crime</td>\n",
       "    </tr>\n",
       "    <tr>\n",
       "      <th>1</th>\n",
       "      <td>318</td>\n",
       "      <td>Drama</td>\n",
       "    </tr>\n",
       "    <tr>\n",
       "      <th>2</th>\n",
       "      <td>2571</td>\n",
       "      <td>Action</td>\n",
       "    </tr>\n",
       "    <tr>\n",
       "      <th>3</th>\n",
       "      <td>2571</td>\n",
       "      <td>Sci-Fi</td>\n",
       "    </tr>\n",
       "    <tr>\n",
       "      <th>4</th>\n",
       "      <td>2571</td>\n",
       "      <td>Thriller</td>\n",
       "    </tr>\n",
       "  </tbody>\n",
       "</table>\n",
       "</div>"
      ],
      "text/plain": [
       "   item     genre\n",
       "0   318     Crime\n",
       "1   318     Drama\n",
       "2  2571    Action\n",
       "3  2571    Sci-Fi\n",
       "4  2571  Thriller"
      ]
     },
     "execution_count": 6,
     "metadata": {},
     "output_type": "execute_result"
    }
   ],
   "source": [
    "genre_df.head()"
   ]
  },
  {
   "cell_type": "code",
   "execution_count": 7,
   "id": "0f7f9cac-98e5-4638-acd0-2b6c09f6b8d8",
   "metadata": {},
   "outputs": [
    {
     "name": "stdout",
     "output_type": "stream",
     "text": [
      "Number of unique train items:  6807\n",
      "Number of unique train genres:  18\n"
     ]
    }
   ],
   "source": [
    "num_train_users = genre_df['item'].nunique()\n",
    "num_train_items = genre_df['genre'].nunique()\n",
    "print (\"Number of unique train items: \", num_train_users)\n",
    "print (\"Number of unique train genres: \", num_train_items)"
   ]
  },
  {
   "cell_type": "markdown",
   "id": "10ab336f-8681-41e9-84f0-8c8195f68d68",
   "metadata": {},
   "source": [
    "### titles"
   ]
  },
  {
   "cell_type": "code",
   "execution_count": 8,
   "id": "f90a9e01-8189-4d26-b1ab-b0efb13e9c46",
   "metadata": {},
   "outputs": [
    {
     "data": {
      "text/html": [
       "<div>\n",
       "<style scoped>\n",
       "    .dataframe tbody tr th:only-of-type {\n",
       "        vertical-align: middle;\n",
       "    }\n",
       "\n",
       "    .dataframe tbody tr th {\n",
       "        vertical-align: top;\n",
       "    }\n",
       "\n",
       "    .dataframe thead th {\n",
       "        text-align: right;\n",
       "    }\n",
       "</style>\n",
       "<table border=\"1\" class=\"dataframe\">\n",
       "  <thead>\n",
       "    <tr style=\"text-align: right;\">\n",
       "      <th></th>\n",
       "      <th>item</th>\n",
       "      <th>title</th>\n",
       "    </tr>\n",
       "  </thead>\n",
       "  <tbody>\n",
       "    <tr>\n",
       "      <th>0</th>\n",
       "      <td>318</td>\n",
       "      <td>Shawshank Redemption, The (1994)</td>\n",
       "    </tr>\n",
       "    <tr>\n",
       "      <th>1</th>\n",
       "      <td>2571</td>\n",
       "      <td>Matrix, The (1999)</td>\n",
       "    </tr>\n",
       "    <tr>\n",
       "      <th>2</th>\n",
       "      <td>2959</td>\n",
       "      <td>Fight Club (1999)</td>\n",
       "    </tr>\n",
       "    <tr>\n",
       "      <th>3</th>\n",
       "      <td>296</td>\n",
       "      <td>Pulp Fiction (1994)</td>\n",
       "    </tr>\n",
       "    <tr>\n",
       "      <th>4</th>\n",
       "      <td>356</td>\n",
       "      <td>Forrest Gump (1994)</td>\n",
       "    </tr>\n",
       "  </tbody>\n",
       "</table>\n",
       "</div>"
      ],
      "text/plain": [
       "   item                             title\n",
       "0   318  Shawshank Redemption, The (1994)\n",
       "1  2571                Matrix, The (1999)\n",
       "2  2959                 Fight Club (1999)\n",
       "3   296               Pulp Fiction (1994)\n",
       "4   356               Forrest Gump (1994)"
      ]
     },
     "execution_count": 8,
     "metadata": {},
     "output_type": "execute_result"
    }
   ],
   "source": [
    "title_df.head()"
   ]
  },
  {
   "cell_type": "code",
   "execution_count": 9,
   "id": "5eb1bca9-0bb8-4c3a-8847-2aa590ae50f6",
   "metadata": {},
   "outputs": [
    {
     "name": "stdout",
     "output_type": "stream",
     "text": [
      "Number of unique train items:  6807\n",
      "Number of unique train titles:  6806\n"
     ]
    }
   ],
   "source": [
    "num_train_users = title_df['item'].nunique()\n",
    "num_train_items = title_df['title'].nunique()\n",
    "print (\"Number of unique train items: \", num_train_users)\n",
    "print (\"Number of unique train titles: \", num_train_items)"
   ]
  },
  {
   "cell_type": "code",
   "execution_count": 10,
   "id": "b7129687-7ec8-4cd4-b828-3cee6b152faf",
   "metadata": {},
   "outputs": [
    {
     "data": {
      "text/html": [
       "<div>\n",
       "<style scoped>\n",
       "    .dataframe tbody tr th:only-of-type {\n",
       "        vertical-align: middle;\n",
       "    }\n",
       "\n",
       "    .dataframe tbody tr th {\n",
       "        vertical-align: top;\n",
       "    }\n",
       "\n",
       "    .dataframe thead th {\n",
       "        text-align: right;\n",
       "    }\n",
       "</style>\n",
       "<table border=\"1\" class=\"dataframe\">\n",
       "  <thead>\n",
       "    <tr style=\"text-align: right;\">\n",
       "      <th></th>\n",
       "      <th>item</th>\n",
       "      <th>title</th>\n",
       "    </tr>\n",
       "  </thead>\n",
       "  <tbody>\n",
       "    <tr>\n",
       "      <th>349</th>\n",
       "      <td>34048</td>\n",
       "      <td>War of the Worlds (2005)</td>\n",
       "    </tr>\n",
       "    <tr>\n",
       "      <th>1926</th>\n",
       "      <td>64997</td>\n",
       "      <td>War of the Worlds (2005)</td>\n",
       "    </tr>\n",
       "  </tbody>\n",
       "</table>\n",
       "</div>"
      ],
      "text/plain": [
       "       item                     title\n",
       "349   34048  War of the Worlds (2005)\n",
       "1926  64997  War of the Worlds (2005)"
      ]
     },
     "execution_count": 10,
     "metadata": {},
     "output_type": "execute_result"
    }
   ],
   "source": [
    "title_df[title_df.duplicated(subset=['title'], keep=False)]"
   ]
  },
  {
   "cell_type": "code",
   "execution_count": null,
   "id": "9c20f690-ca48-4780-a1ac-6cee90fd7b06",
   "metadata": {},
   "outputs": [],
   "source": [
    "# 같은 것으로 취급함.\n",
    "# 전체 데이터셋 item id 64997 -> 34048로 변경."
   ]
  },
  {
   "cell_type": "code",
   "execution_count": 14,
   "id": "58365987-f9d4-4609-b79c-78d45e49b89a",
   "metadata": {},
   "outputs": [],
   "source": [
    "# drop the specified row\n",
    "dropping_row = title_df['item'] == 64997\n",
    "title_df.drop(labels=title_df[dropping_row].index, axis=0, inplace=True)"
   ]
  },
  {
   "cell_type": "code",
   "execution_count": null,
   "id": "7fd89058-2ba1-4554-bce9-7d16cafb2595",
   "metadata": {},
   "outputs": [],
   "source": [
    "# title, genre, writer, director, year, interaction"
   ]
  },
  {
   "cell_type": "code",
   "execution_count": 38,
   "id": "4b6b1685-12bf-45c3-a8e4-0fc4668e2074",
   "metadata": {},
   "outputs": [
    {
     "data": {
      "text/html": [
       "<div>\n",
       "<style scoped>\n",
       "    .dataframe tbody tr th:only-of-type {\n",
       "        vertical-align: middle;\n",
       "    }\n",
       "\n",
       "    .dataframe tbody tr th {\n",
       "        vertical-align: top;\n",
       "    }\n",
       "\n",
       "    .dataframe thead th {\n",
       "        text-align: right;\n",
       "    }\n",
       "</style>\n",
       "<table border=\"1\" class=\"dataframe\">\n",
       "  <thead>\n",
       "    <tr style=\"text-align: right;\">\n",
       "      <th></th>\n",
       "      <th>item</th>\n",
       "      <th>genre</th>\n",
       "    </tr>\n",
       "  </thead>\n",
       "  <tbody>\n",
       "    <tr>\n",
       "      <th>1001</th>\n",
       "      <td>34048</td>\n",
       "      <td>Action</td>\n",
       "    </tr>\n",
       "    <tr>\n",
       "      <th>1002</th>\n",
       "      <td>34048</td>\n",
       "      <td>Adventure</td>\n",
       "    </tr>\n",
       "    <tr>\n",
       "      <th>1003</th>\n",
       "      <td>34048</td>\n",
       "      <td>Sci-Fi</td>\n",
       "    </tr>\n",
       "    <tr>\n",
       "      <th>1004</th>\n",
       "      <td>34048</td>\n",
       "      <td>Thriller</td>\n",
       "    </tr>\n",
       "    <tr>\n",
       "      <th>4735</th>\n",
       "      <td>64997</td>\n",
       "      <td>Action</td>\n",
       "    </tr>\n",
       "    <tr>\n",
       "      <th>4736</th>\n",
       "      <td>64997</td>\n",
       "      <td>Sci-Fi</td>\n",
       "    </tr>\n",
       "  </tbody>\n",
       "</table>\n",
       "</div>"
      ],
      "text/plain": [
       "       item      genre\n",
       "1001  34048     Action\n",
       "1002  34048  Adventure\n",
       "1003  34048     Sci-Fi\n",
       "1004  34048   Thriller\n",
       "4735  64997     Action\n",
       "4736  64997     Sci-Fi"
      ]
     },
     "execution_count": 38,
     "metadata": {},
     "output_type": "execute_result"
    }
   ],
   "source": [
    "spe = genre_df['item'].isin([64997, 34048])\n",
    "genre_df[spe]"
   ]
  },
  {
   "cell_type": "code",
   "execution_count": 40,
   "id": "975195ac-20e8-40af-b529-ce43efe25d4c",
   "metadata": {},
   "outputs": [
    {
     "data": {
      "text/html": [
       "<div>\n",
       "<style scoped>\n",
       "    .dataframe tbody tr th:only-of-type {\n",
       "        vertical-align: middle;\n",
       "    }\n",
       "\n",
       "    .dataframe tbody tr th {\n",
       "        vertical-align: top;\n",
       "    }\n",
       "\n",
       "    .dataframe thead th {\n",
       "        text-align: right;\n",
       "    }\n",
       "</style>\n",
       "<table border=\"1\" class=\"dataframe\">\n",
       "  <thead>\n",
       "    <tr style=\"text-align: right;\">\n",
       "      <th></th>\n",
       "      <th>item</th>\n",
       "      <th>writer</th>\n",
       "    </tr>\n",
       "  </thead>\n",
       "  <tbody>\n",
       "    <tr>\n",
       "      <th>4527</th>\n",
       "      <td>34048</td>\n",
       "      <td>nm0295264</td>\n",
       "    </tr>\n",
       "    <tr>\n",
       "      <th>6221</th>\n",
       "      <td>34048</td>\n",
       "      <td>nm0462895</td>\n",
       "    </tr>\n",
       "    <tr>\n",
       "      <th>10154</th>\n",
       "      <td>34048</td>\n",
       "      <td>nm0920229</td>\n",
       "    </tr>\n",
       "    <tr>\n",
       "      <th>10158</th>\n",
       "      <td>64997</td>\n",
       "      <td>nm0920229</td>\n",
       "    </tr>\n",
       "  </tbody>\n",
       "</table>\n",
       "</div>"
      ],
      "text/plain": [
       "        item     writer\n",
       "4527   34048  nm0295264\n",
       "6221   34048  nm0462895\n",
       "10154  34048  nm0920229\n",
       "10158  64997  nm0920229"
      ]
     },
     "execution_count": 40,
     "metadata": {},
     "output_type": "execute_result"
    }
   ],
   "source": [
    "spe = writer_df['item'].isin([64997, 34048])\n",
    "writer_df[spe]"
   ]
  },
  {
   "cell_type": "code",
   "execution_count": 41,
   "id": "888fd161-fa72-4046-a016-9466a7803442",
   "metadata": {},
   "outputs": [
    {
     "data": {
      "text/html": [
       "<div>\n",
       "<style scoped>\n",
       "    .dataframe tbody tr th:only-of-type {\n",
       "        vertical-align: middle;\n",
       "    }\n",
       "\n",
       "    .dataframe tbody tr th {\n",
       "        vertical-align: top;\n",
       "    }\n",
       "\n",
       "    .dataframe thead th {\n",
       "        text-align: right;\n",
       "    }\n",
       "</style>\n",
       "<table border=\"1\" class=\"dataframe\">\n",
       "  <thead>\n",
       "    <tr style=\"text-align: right;\">\n",
       "      <th></th>\n",
       "      <th>item</th>\n",
       "      <th>director</th>\n",
       "    </tr>\n",
       "  </thead>\n",
       "  <tbody>\n",
       "    <tr>\n",
       "      <th>384</th>\n",
       "      <td>34048</td>\n",
       "      <td>nm0000229</td>\n",
       "    </tr>\n",
       "  </tbody>\n",
       "</table>\n",
       "</div>"
      ],
      "text/plain": [
       "      item   director\n",
       "384  34048  nm0000229"
      ]
     },
     "execution_count": 41,
     "metadata": {},
     "output_type": "execute_result"
    }
   ],
   "source": [
    "spe = director_df['item'].isin([64997, 34048])\n",
    "director_df[spe]"
   ]
  },
  {
   "cell_type": "code",
   "execution_count": 42,
   "id": "c591bd85-32a9-44e0-87b0-94c7c7672676",
   "metadata": {},
   "outputs": [
    {
     "data": {
      "text/html": [
       "<div>\n",
       "<style scoped>\n",
       "    .dataframe tbody tr th:only-of-type {\n",
       "        vertical-align: middle;\n",
       "    }\n",
       "\n",
       "    .dataframe tbody tr th {\n",
       "        vertical-align: top;\n",
       "    }\n",
       "\n",
       "    .dataframe thead th {\n",
       "        text-align: right;\n",
       "    }\n",
       "</style>\n",
       "<table border=\"1\" class=\"dataframe\">\n",
       "  <thead>\n",
       "    <tr style=\"text-align: right;\">\n",
       "      <th></th>\n",
       "      <th>item</th>\n",
       "      <th>year</th>\n",
       "    </tr>\n",
       "  </thead>\n",
       "  <tbody>\n",
       "    <tr>\n",
       "      <th>4751</th>\n",
       "      <td>34048</td>\n",
       "      <td>2005</td>\n",
       "    </tr>\n",
       "    <tr>\n",
       "      <th>4806</th>\n",
       "      <td>64997</td>\n",
       "      <td>2005</td>\n",
       "    </tr>\n",
       "  </tbody>\n",
       "</table>\n",
       "</div>"
      ],
      "text/plain": [
       "       item  year\n",
       "4751  34048  2005\n",
       "4806  64997  2005"
      ]
     },
     "execution_count": 42,
     "metadata": {},
     "output_type": "execute_result"
    }
   ],
   "source": [
    "spe = year_df['item'].isin([64997, 34048])\n",
    "year_df[spe]"
   ]
  },
  {
   "cell_type": "code",
   "execution_count": 2,
   "id": "3f7bbcc3-77e1-4ead-90dd-8e2c2d59f129",
   "metadata": {},
   "outputs": [
    {
     "data": {
      "text/html": [
       "<div>\n",
       "<style scoped>\n",
       "    .dataframe tbody tr th:only-of-type {\n",
       "        vertical-align: middle;\n",
       "    }\n",
       "\n",
       "    .dataframe tbody tr th {\n",
       "        vertical-align: top;\n",
       "    }\n",
       "\n",
       "    .dataframe thead th {\n",
       "        text-align: right;\n",
       "    }\n",
       "</style>\n",
       "<table border=\"1\" class=\"dataframe\">\n",
       "  <thead>\n",
       "    <tr style=\"text-align: right;\">\n",
       "      <th></th>\n",
       "      <th>user</th>\n",
       "      <th>item</th>\n",
       "      <th>time</th>\n",
       "    </tr>\n",
       "  </thead>\n",
       "  <tbody>\n",
       "    <tr>\n",
       "      <th>126</th>\n",
       "      <td>11</td>\n",
       "      <td>34048</td>\n",
       "      <td>1230788489</td>\n",
       "    </tr>\n",
       "    <tr>\n",
       "      <th>349</th>\n",
       "      <td>11</td>\n",
       "      <td>64997</td>\n",
       "      <td>1251170446</td>\n",
       "    </tr>\n",
       "    <tr>\n",
       "      <th>5630</th>\n",
       "      <td>208</td>\n",
       "      <td>34048</td>\n",
       "      <td>1157583328</td>\n",
       "    </tr>\n",
       "    <tr>\n",
       "      <th>7675</th>\n",
       "      <td>258</td>\n",
       "      <td>34048</td>\n",
       "      <td>1221520795</td>\n",
       "    </tr>\n",
       "    <tr>\n",
       "      <th>11320</th>\n",
       "      <td>367</td>\n",
       "      <td>34048</td>\n",
       "      <td>1120865002</td>\n",
       "    </tr>\n",
       "    <tr>\n",
       "      <th>...</th>\n",
       "      <td>...</td>\n",
       "      <td>...</td>\n",
       "      <td>...</td>\n",
       "    </tr>\n",
       "    <tr>\n",
       "      <th>5150174</th>\n",
       "      <td>138404</td>\n",
       "      <td>34048</td>\n",
       "      <td>1138010617</td>\n",
       "    </tr>\n",
       "    <tr>\n",
       "      <th>5150984</th>\n",
       "      <td>138414</td>\n",
       "      <td>34048</td>\n",
       "      <td>1386706180</td>\n",
       "    </tr>\n",
       "    <tr>\n",
       "      <th>5152924</th>\n",
       "      <td>138456</td>\n",
       "      <td>34048</td>\n",
       "      <td>1183783639</td>\n",
       "    </tr>\n",
       "    <tr>\n",
       "      <th>5153574</th>\n",
       "      <td>138472</td>\n",
       "      <td>34048</td>\n",
       "      <td>1194041076</td>\n",
       "    </tr>\n",
       "    <tr>\n",
       "      <th>5154459</th>\n",
       "      <td>138493</td>\n",
       "      <td>34048</td>\n",
       "      <td>1258390758</td>\n",
       "    </tr>\n",
       "  </tbody>\n",
       "</table>\n",
       "<p>3200 rows × 3 columns</p>\n",
       "</div>"
      ],
      "text/plain": [
       "           user   item        time\n",
       "126          11  34048  1230788489\n",
       "349          11  64997  1251170446\n",
       "5630        208  34048  1157583328\n",
       "7675        258  34048  1221520795\n",
       "11320       367  34048  1120865002\n",
       "...         ...    ...         ...\n",
       "5150174  138404  34048  1138010617\n",
       "5150984  138414  34048  1386706180\n",
       "5152924  138456  34048  1183783639\n",
       "5153574  138472  34048  1194041076\n",
       "5154459  138493  34048  1258390758\n",
       "\n",
       "[3200 rows x 3 columns]"
      ]
     },
     "execution_count": 2,
     "metadata": {},
     "output_type": "execute_result"
    }
   ],
   "source": [
    "spe = inter_df['item'].isin([64997, 34048])\n",
    "inter_df[spe]"
   ]
  },
  {
   "cell_type": "code",
   "execution_count": 3,
   "id": "09329fa4-23d5-4e79-839e-f37fbb8e966e",
   "metadata": {},
   "outputs": [
    {
     "data": {
      "text/html": [
       "<div>\n",
       "<style scoped>\n",
       "    .dataframe tbody tr th:only-of-type {\n",
       "        vertical-align: middle;\n",
       "    }\n",
       "\n",
       "    .dataframe tbody tr th {\n",
       "        vertical-align: top;\n",
       "    }\n",
       "\n",
       "    .dataframe thead th {\n",
       "        text-align: right;\n",
       "    }\n",
       "</style>\n",
       "<table border=\"1\" class=\"dataframe\">\n",
       "  <thead>\n",
       "    <tr style=\"text-align: right;\">\n",
       "      <th></th>\n",
       "      <th>user</th>\n",
       "      <th>item</th>\n",
       "      <th>time</th>\n",
       "    </tr>\n",
       "  </thead>\n",
       "  <tbody>\n",
       "    <tr>\n",
       "      <th>126</th>\n",
       "      <td>11</td>\n",
       "      <td>34048</td>\n",
       "      <td>1230788489</td>\n",
       "    </tr>\n",
       "    <tr>\n",
       "      <th>5630</th>\n",
       "      <td>208</td>\n",
       "      <td>34048</td>\n",
       "      <td>1157583328</td>\n",
       "    </tr>\n",
       "    <tr>\n",
       "      <th>7675</th>\n",
       "      <td>258</td>\n",
       "      <td>34048</td>\n",
       "      <td>1221520795</td>\n",
       "    </tr>\n",
       "    <tr>\n",
       "      <th>11320</th>\n",
       "      <td>367</td>\n",
       "      <td>34048</td>\n",
       "      <td>1120865002</td>\n",
       "    </tr>\n",
       "    <tr>\n",
       "      <th>12619</th>\n",
       "      <td>388</td>\n",
       "      <td>34048</td>\n",
       "      <td>1174643516</td>\n",
       "    </tr>\n",
       "    <tr>\n",
       "      <th>...</th>\n",
       "      <td>...</td>\n",
       "      <td>...</td>\n",
       "      <td>...</td>\n",
       "    </tr>\n",
       "    <tr>\n",
       "      <th>5150174</th>\n",
       "      <td>138404</td>\n",
       "      <td>34048</td>\n",
       "      <td>1138010617</td>\n",
       "    </tr>\n",
       "    <tr>\n",
       "      <th>5150984</th>\n",
       "      <td>138414</td>\n",
       "      <td>34048</td>\n",
       "      <td>1386706180</td>\n",
       "    </tr>\n",
       "    <tr>\n",
       "      <th>5152924</th>\n",
       "      <td>138456</td>\n",
       "      <td>34048</td>\n",
       "      <td>1183783639</td>\n",
       "    </tr>\n",
       "    <tr>\n",
       "      <th>5153574</th>\n",
       "      <td>138472</td>\n",
       "      <td>34048</td>\n",
       "      <td>1194041076</td>\n",
       "    </tr>\n",
       "    <tr>\n",
       "      <th>5154459</th>\n",
       "      <td>138493</td>\n",
       "      <td>34048</td>\n",
       "      <td>1258390758</td>\n",
       "    </tr>\n",
       "  </tbody>\n",
       "</table>\n",
       "<p>3022 rows × 3 columns</p>\n",
       "</div>"
      ],
      "text/plain": [
       "           user   item        time\n",
       "126          11  34048  1230788489\n",
       "5630        208  34048  1157583328\n",
       "7675        258  34048  1221520795\n",
       "11320       367  34048  1120865002\n",
       "12619       388  34048  1174643516\n",
       "...         ...    ...         ...\n",
       "5150174  138404  34048  1138010617\n",
       "5150984  138414  34048  1386706180\n",
       "5152924  138456  34048  1183783639\n",
       "5153574  138472  34048  1194041076\n",
       "5154459  138493  34048  1258390758\n",
       "\n",
       "[3022 rows x 3 columns]"
      ]
     },
     "execution_count": 3,
     "metadata": {},
     "output_type": "execute_result"
    }
   ],
   "source": [
    "inter_df[spe][inter_df[spe].item==34048]"
   ]
  },
  {
   "cell_type": "code",
   "execution_count": 4,
   "id": "938da8c3-92f6-4039-bc65-cd69fb7cb72a",
   "metadata": {},
   "outputs": [
    {
     "data": {
      "text/html": [
       "<div>\n",
       "<style scoped>\n",
       "    .dataframe tbody tr th:only-of-type {\n",
       "        vertical-align: middle;\n",
       "    }\n",
       "\n",
       "    .dataframe tbody tr th {\n",
       "        vertical-align: top;\n",
       "    }\n",
       "\n",
       "    .dataframe thead th {\n",
       "        text-align: right;\n",
       "    }\n",
       "</style>\n",
       "<table border=\"1\" class=\"dataframe\">\n",
       "  <thead>\n",
       "    <tr style=\"text-align: right;\">\n",
       "      <th></th>\n",
       "      <th>user</th>\n",
       "      <th>item</th>\n",
       "      <th>time</th>\n",
       "    </tr>\n",
       "  </thead>\n",
       "  <tbody>\n",
       "    <tr>\n",
       "      <th>349</th>\n",
       "      <td>11</td>\n",
       "      <td>64997</td>\n",
       "      <td>1251170446</td>\n",
       "    </tr>\n",
       "    <tr>\n",
       "      <th>20178</th>\n",
       "      <td>572</td>\n",
       "      <td>64997</td>\n",
       "      <td>1324349773</td>\n",
       "    </tr>\n",
       "    <tr>\n",
       "      <th>77255</th>\n",
       "      <td>2024</td>\n",
       "      <td>64997</td>\n",
       "      <td>1279975284</td>\n",
       "    </tr>\n",
       "    <tr>\n",
       "      <th>78909</th>\n",
       "      <td>2070</td>\n",
       "      <td>64997</td>\n",
       "      <td>1278507920</td>\n",
       "    </tr>\n",
       "    <tr>\n",
       "      <th>200538</th>\n",
       "      <td>5063</td>\n",
       "      <td>64997</td>\n",
       "      <td>1246485085</td>\n",
       "    </tr>\n",
       "    <tr>\n",
       "      <th>...</th>\n",
       "      <td>...</td>\n",
       "      <td>...</td>\n",
       "      <td>...</td>\n",
       "    </tr>\n",
       "    <tr>\n",
       "      <th>5050497</th>\n",
       "      <td>135595</td>\n",
       "      <td>64997</td>\n",
       "      <td>1349628975</td>\n",
       "    </tr>\n",
       "    <tr>\n",
       "      <th>5054742</th>\n",
       "      <td>135751</td>\n",
       "      <td>64997</td>\n",
       "      <td>1230682485</td>\n",
       "    </tr>\n",
       "    <tr>\n",
       "      <th>5078282</th>\n",
       "      <td>136479</td>\n",
       "      <td>64997</td>\n",
       "      <td>1284129294</td>\n",
       "    </tr>\n",
       "    <tr>\n",
       "      <th>5093852</th>\n",
       "      <td>136875</td>\n",
       "      <td>64997</td>\n",
       "      <td>1311805494</td>\n",
       "    </tr>\n",
       "    <tr>\n",
       "      <th>5134387</th>\n",
       "      <td>138020</td>\n",
       "      <td>64997</td>\n",
       "      <td>1262419522</td>\n",
       "    </tr>\n",
       "  </tbody>\n",
       "</table>\n",
       "<p>178 rows × 3 columns</p>\n",
       "</div>"
      ],
      "text/plain": [
       "           user   item        time\n",
       "349          11  64997  1251170446\n",
       "20178       572  64997  1324349773\n",
       "77255      2024  64997  1279975284\n",
       "78909      2070  64997  1278507920\n",
       "200538     5063  64997  1246485085\n",
       "...         ...    ...         ...\n",
       "5050497  135595  64997  1349628975\n",
       "5054742  135751  64997  1230682485\n",
       "5078282  136479  64997  1284129294\n",
       "5093852  136875  64997  1311805494\n",
       "5134387  138020  64997  1262419522\n",
       "\n",
       "[178 rows x 3 columns]"
      ]
     },
     "execution_count": 4,
     "metadata": {},
     "output_type": "execute_result"
    }
   ],
   "source": [
    "inter_df[spe][inter_df[spe].item==64997]"
   ]
  },
  {
   "cell_type": "markdown",
   "id": "663f66ec-4b89-42be-add1-56b09a4a0886",
   "metadata": {},
   "source": [
    "### directors"
   ]
  },
  {
   "cell_type": "code",
   "execution_count": 33,
   "id": "473898ad-59c4-424f-a700-5412c1b57915",
   "metadata": {},
   "outputs": [
    {
     "data": {
      "text/html": [
       "<div>\n",
       "<style scoped>\n",
       "    .dataframe tbody tr th:only-of-type {\n",
       "        vertical-align: middle;\n",
       "    }\n",
       "\n",
       "    .dataframe tbody tr th {\n",
       "        vertical-align: top;\n",
       "    }\n",
       "\n",
       "    .dataframe thead th {\n",
       "        text-align: right;\n",
       "    }\n",
       "</style>\n",
       "<table border=\"1\" class=\"dataframe\">\n",
       "  <thead>\n",
       "    <tr style=\"text-align: right;\">\n",
       "      <th></th>\n",
       "      <th>item</th>\n",
       "      <th>director</th>\n",
       "    </tr>\n",
       "  </thead>\n",
       "  <tbody>\n",
       "    <tr>\n",
       "      <th>0</th>\n",
       "      <td>1237</td>\n",
       "      <td>nm0000005</td>\n",
       "    </tr>\n",
       "    <tr>\n",
       "      <th>1</th>\n",
       "      <td>5147</td>\n",
       "      <td>nm0000005</td>\n",
       "    </tr>\n",
       "    <tr>\n",
       "      <th>2</th>\n",
       "      <td>7327</td>\n",
       "      <td>nm0000005</td>\n",
       "    </tr>\n",
       "    <tr>\n",
       "      <th>3</th>\n",
       "      <td>2068</td>\n",
       "      <td>nm0000005</td>\n",
       "    </tr>\n",
       "    <tr>\n",
       "      <th>4</th>\n",
       "      <td>7396</td>\n",
       "      <td>nm0000005</td>\n",
       "    </tr>\n",
       "  </tbody>\n",
       "</table>\n",
       "</div>"
      ],
      "text/plain": [
       "   item   director\n",
       "0  1237  nm0000005\n",
       "1  5147  nm0000005\n",
       "2  7327  nm0000005\n",
       "3  2068  nm0000005\n",
       "4  7396  nm0000005"
      ]
     },
     "execution_count": 33,
     "metadata": {},
     "output_type": "execute_result"
    }
   ],
   "source": [
    "director_df.head()"
   ]
  },
  {
   "cell_type": "code",
   "execution_count": 35,
   "id": "e81fff5b-40f5-40ba-8725-46074ccf1db2",
   "metadata": {},
   "outputs": [
    {
     "name": "stdout",
     "output_type": "stream",
     "text": [
      "Number of unique train items:  5503\n",
      "Number of unique train directors:  1340\n"
     ]
    }
   ],
   "source": [
    "num_train_users = director_df['item'].nunique()\n",
    "num_train_items = director_df['director'].nunique()\n",
    "print (\"Number of unique train items: \", num_train_users)\n",
    "print (\"Number of unique train directors: \", num_train_items)"
   ]
  },
  {
   "cell_type": "markdown",
   "id": "a45d0acc-c4ac-486f-9b7d-85dc356b2b2d",
   "metadata": {},
   "source": [
    "### writers"
   ]
  },
  {
   "cell_type": "code",
   "execution_count": 36,
   "id": "d0e9c3ef-95d0-4e0a-b432-812614ef5e46",
   "metadata": {},
   "outputs": [
    {
     "data": {
      "text/html": [
       "<div>\n",
       "<style scoped>\n",
       "    .dataframe tbody tr th:only-of-type {\n",
       "        vertical-align: middle;\n",
       "    }\n",
       "\n",
       "    .dataframe tbody tr th {\n",
       "        vertical-align: top;\n",
       "    }\n",
       "\n",
       "    .dataframe thead th {\n",
       "        text-align: right;\n",
       "    }\n",
       "</style>\n",
       "<table border=\"1\" class=\"dataframe\">\n",
       "  <thead>\n",
       "    <tr style=\"text-align: right;\">\n",
       "      <th></th>\n",
       "      <th>item</th>\n",
       "      <th>writer</th>\n",
       "    </tr>\n",
       "  </thead>\n",
       "  <tbody>\n",
       "    <tr>\n",
       "      <th>0</th>\n",
       "      <td>1237</td>\n",
       "      <td>nm0000005</td>\n",
       "    </tr>\n",
       "    <tr>\n",
       "      <th>1</th>\n",
       "      <td>5147</td>\n",
       "      <td>nm0000005</td>\n",
       "    </tr>\n",
       "    <tr>\n",
       "      <th>2</th>\n",
       "      <td>7327</td>\n",
       "      <td>nm0000005</td>\n",
       "    </tr>\n",
       "    <tr>\n",
       "      <th>3</th>\n",
       "      <td>2068</td>\n",
       "      <td>nm0000005</td>\n",
       "    </tr>\n",
       "    <tr>\n",
       "      <th>4</th>\n",
       "      <td>7396</td>\n",
       "      <td>nm0000005</td>\n",
       "    </tr>\n",
       "  </tbody>\n",
       "</table>\n",
       "</div>"
      ],
      "text/plain": [
       "   item     writer\n",
       "0  1237  nm0000005\n",
       "1  5147  nm0000005\n",
       "2  7327  nm0000005\n",
       "3  2068  nm0000005\n",
       "4  7396  nm0000005"
      ]
     },
     "execution_count": 36,
     "metadata": {},
     "output_type": "execute_result"
    }
   ],
   "source": [
    "writer_df.head()"
   ]
  },
  {
   "cell_type": "code",
   "execution_count": 38,
   "id": "6e63945d-37ad-4c21-90a6-3d3b7e6a20ba",
   "metadata": {},
   "outputs": [
    {
     "name": "stdout",
     "output_type": "stream",
     "text": [
      "Number of unique train items:  5648\n",
      "Number of unique train writers:  2989\n"
     ]
    }
   ],
   "source": [
    "num_train_users = writer_df['item'].nunique()\n",
    "num_train_items = writer_df['writer'].nunique()\n",
    "print (\"Number of unique train items: \", num_train_users)\n",
    "print (\"Number of unique train writers: \", num_train_items)"
   ]
  },
  {
   "cell_type": "markdown",
   "id": "f41d3079-2b5f-483d-a94a-e1a4f1162cbc",
   "metadata": {},
   "source": [
    "### years"
   ]
  },
  {
   "cell_type": "code",
   "execution_count": 39,
   "id": "281cfde9-85a8-4856-9c45-2d9b880432fa",
   "metadata": {},
   "outputs": [
    {
     "data": {
      "text/html": [
       "<div>\n",
       "<style scoped>\n",
       "    .dataframe tbody tr th:only-of-type {\n",
       "        vertical-align: middle;\n",
       "    }\n",
       "\n",
       "    .dataframe tbody tr th {\n",
       "        vertical-align: top;\n",
       "    }\n",
       "\n",
       "    .dataframe thead th {\n",
       "        text-align: right;\n",
       "    }\n",
       "</style>\n",
       "<table border=\"1\" class=\"dataframe\">\n",
       "  <thead>\n",
       "    <tr style=\"text-align: right;\">\n",
       "      <th></th>\n",
       "      <th>item</th>\n",
       "      <th>year</th>\n",
       "    </tr>\n",
       "  </thead>\n",
       "  <tbody>\n",
       "    <tr>\n",
       "      <th>0</th>\n",
       "      <td>1348</td>\n",
       "      <td>1922</td>\n",
       "    </tr>\n",
       "    <tr>\n",
       "      <th>1</th>\n",
       "      <td>44587</td>\n",
       "      <td>1922</td>\n",
       "    </tr>\n",
       "    <tr>\n",
       "      <th>2</th>\n",
       "      <td>4768</td>\n",
       "      <td>1922</td>\n",
       "    </tr>\n",
       "    <tr>\n",
       "      <th>3</th>\n",
       "      <td>8235</td>\n",
       "      <td>1923</td>\n",
       "    </tr>\n",
       "    <tr>\n",
       "      <th>4</th>\n",
       "      <td>8609</td>\n",
       "      <td>1923</td>\n",
       "    </tr>\n",
       "  </tbody>\n",
       "</table>\n",
       "</div>"
      ],
      "text/plain": [
       "    item  year\n",
       "0   1348  1922\n",
       "1  44587  1922\n",
       "2   4768  1922\n",
       "3   8235  1923\n",
       "4   8609  1923"
      ]
     },
     "execution_count": 39,
     "metadata": {},
     "output_type": "execute_result"
    }
   ],
   "source": [
    "year_df.head()"
   ]
  },
  {
   "cell_type": "code",
   "execution_count": 40,
   "id": "5669eca4-3516-4018-a564-6b818685dc88",
   "metadata": {},
   "outputs": [
    {
     "name": "stdout",
     "output_type": "stream",
     "text": [
      "Number of unique train items:  6799\n",
      "Number of unique train years:  93\n"
     ]
    }
   ],
   "source": [
    "num_train_users = year_df['item'].nunique()\n",
    "num_train_items = year_df['year'].nunique()\n",
    "print (\"Number of unique train items: \", num_train_users)\n",
    "print (\"Number of unique train years: \", num_train_items)"
   ]
  },
  {
   "cell_type": "code",
   "execution_count": null,
   "id": "df9ce9da-685f-4d5b-8e72-333d6c166a09",
   "metadata": {},
   "outputs": [],
   "source": []
  },
  {
   "cell_type": "markdown",
   "id": "74b8bce0-3b44-499e-937e-c8a925f08690",
   "metadata": {},
   "source": [
    "### 분석"
   ]
  },
  {
   "cell_type": "code",
   "execution_count": 58,
   "id": "cf9d3a00-225b-4d90-ad90-3df9b6119573",
   "metadata": {},
   "outputs": [],
   "source": [
    "# 유저 별 영화 소비 패턴"
   ]
  },
  {
   "cell_type": "code",
   "execution_count": 59,
   "id": "b118ec22-ae59-4106-8fb3-9d295cb30468",
   "metadata": {},
   "outputs": [],
   "source": [
    "# user - item"
   ]
  },
  {
   "cell_type": "code",
   "execution_count": 69,
   "id": "2c6dd7aa-dfad-40ca-9e27-64b324a7f364",
   "metadata": {},
   "outputs": [],
   "source": [
    "a = inter_df.groupby('user')['item']"
   ]
  },
  {
   "cell_type": "code",
   "execution_count": 80,
   "id": "e21b94d6-2343-48cc-bb8a-c4957969a58d",
   "metadata": {},
   "outputs": [
    {
     "data": {
      "text/plain": [
       "<AxesSubplot: >"
      ]
     },
     "execution_count": 80,
     "metadata": {},
     "output_type": "execute_result"
    },
    {
     "data": {
      "image/png": "[encoded data removed]",
      "text/plain": [
       "<Figure size 432x288 with 1 Axes>"
      ]
     },
     "metadata": {
      "needs_background": "light"
     },
     "output_type": "display_data"
    }
   ],
   "source": [
    "inter_df['user'].value_counts().hist(bins=100)"
   ]
  },
  {
   "cell_type": "code",
   "execution_count": 81,
   "id": "31adcf68-f665-4dad-94d8-96819b90c5c5",
   "metadata": {},
   "outputs": [
    {
     "data": {
      "text/plain": [
       "8405      2912\n",
       "54465     1980\n",
       "24219     1842\n",
       "32514     1830\n",
       "91349     1795\n",
       "          ... \n",
       "11211       32\n",
       "128756      28\n",
       "105578      22\n",
       "68606       19\n",
       "53188       16\n",
       "Name: user, Length: 31360, dtype: int64"
      ]
     },
     "execution_count": 81,
     "metadata": {},
     "output_type": "execute_result"
    }
   ],
   "source": [
    "inter_df['user'].value_counts()"
   ]
  },
  {
   "cell_type": "code",
   "execution_count": 82,
   "id": "814df3fe-4b73-4a89-aa84-8fa29d86ae36",
   "metadata": {},
   "outputs": [
    {
     "data": {
      "text/plain": [
       "count    31360.000000\n",
       "mean       164.364509\n",
       "std        150.009107\n",
       "min         16.000000\n",
       "25%         71.000000\n",
       "50%        114.000000\n",
       "75%        200.000000\n",
       "max       2912.000000\n",
       "Name: user, dtype: float64"
      ]
     },
     "execution_count": 82,
     "metadata": {},
     "output_type": "execute_result"
    }
   ],
   "source": [
    "inter_df['user'].value_counts().describe()"
   ]
  },
  {
   "cell_type": "code",
   "execution_count": 89,
   "id": "bd3e4c8c-3c98-46ff-b801-eadd9c9e6b8a",
   "metadata": {},
   "outputs": [
    {
     "name": "stderr",
     "output_type": "stream",
     "text": [
      "/tmp/ipykernel_67735/2614317664.py:1: FutureWarning: The behavior of `series[i:j]` with an integer-dtype index is deprecated. In a future version, this will be treated as *label-based* indexing, consistent with e.g. `series[i]` lookups. To retain the old behavior, use `series.iloc[i:j]`. To get the future behavior, use `series.loc[i:j]`.\n",
      "  inter_df['user'].value_counts()[:100]\n"
     ]
    },
    {
     "data": {
      "text/plain": [
       "8405      2912\n",
       "54465     1980\n",
       "24219     1842\n",
       "32514     1830\n",
       "91349     1795\n",
       "          ... \n",
       "118848    1049\n",
       "14705     1048\n",
       "32671     1046\n",
       "126072    1045\n",
       "35834     1039\n",
       "Name: user, Length: 100, dtype: int64"
      ]
     },
     "execution_count": 89,
     "metadata": {},
     "output_type": "execute_result"
    }
   ],
   "source": [
    "inter_df['user'].value_counts()[:100]"
   ]
  },
  {
   "cell_type": "code",
   "execution_count": 99,
   "id": "d924cf0b-c2c9-4170-9a5a-d6a96fe6aefb",
   "metadata": {},
   "outputs": [
    {
     "name": "stderr",
     "output_type": "stream",
     "text": [
      "/tmp/ipykernel_67735/3365103908.py:1: FutureWarning: The behavior of `series[i:j]` with an integer-dtype index is deprecated. In a future version, this will be treated as *label-based* indexing, consistent with e.g. `series[i]` lookups. To retain the old behavior, use `series.iloc[i:j]`. To get the future behavior, use `series.loc[i:j]`.\n",
      "  inter_df['user'].value_counts()[-20000:]\n"
     ]
    },
    {
     "data": {
      "text/plain": [
       "133076    152\n",
       "11005     152\n",
       "132047    152\n",
       "2310      152\n",
       "132706    152\n",
       "         ... \n",
       "11211      32\n",
       "128756     28\n",
       "105578     22\n",
       "68606      19\n",
       "53188      16\n",
       "Name: user, Length: 20000, dtype: int64"
      ]
     },
     "execution_count": 99,
     "metadata": {},
     "output_type": "execute_result"
    }
   ],
   "source": [
    "inter_df['user'].value_counts()[-20000:]"
   ]
  },
  {
   "cell_type": "code",
   "execution_count": null,
   "id": "b835e3d4-fb5f-45ea-bf48-78790d57976c",
   "metadata": {},
   "outputs": [],
   "source": []
  },
  {
   "cell_type": "markdown",
   "id": "3db3d6b4-d6ec-4ba2-b6dd-a67798ab88d3",
   "metadata": {},
   "source": [
    "### Modify dfs & Save it"
   ]
  },
  {
   "cell_type": "markdown",
   "id": "43bc5372-846b-455f-846e-d7e7be2cda40",
   "metadata": {
    "jp-MarkdownHeadingCollapsed": true,
    "tags": []
   },
   "source": [
    "#### - 이상치 (war of the worlds) 제거"
   ]
  },
  {
   "cell_type": "code",
   "execution_count": null,
   "id": "8d30afd8-1551-4fea-bf34-aec3e28a9a7a",
   "metadata": {},
   "outputs": [],
   "source": [
    "# 같은 것으로 취급함.\n",
    "# 전체 데이터셋 item id 64997 -> 34048로 변경."
   ]
  },
  {
   "cell_type": "code",
   "execution_count": 45,
   "id": "04381c38-b00d-405b-9acb-33f7c04fe553",
   "metadata": {},
   "outputs": [],
   "source": [
    "path = '/opt/ml/input/data/tr_v1_dup_title/'"
   ]
  },
  {
   "cell_type": "code",
   "execution_count": 38,
   "id": "173d92b6-4c98-478d-80e5-5f65b99755f3",
   "metadata": {},
   "outputs": [
    {
     "data": {
      "text/html": [
       "<div>\n",
       "<style scoped>\n",
       "    .dataframe tbody tr th:only-of-type {\n",
       "        vertical-align: middle;\n",
       "    }\n",
       "\n",
       "    .dataframe tbody tr th {\n",
       "        vertical-align: top;\n",
       "    }\n",
       "\n",
       "    .dataframe thead th {\n",
       "        text-align: right;\n",
       "    }\n",
       "</style>\n",
       "<table border=\"1\" class=\"dataframe\">\n",
       "  <thead>\n",
       "    <tr style=\"text-align: right;\">\n",
       "      <th></th>\n",
       "      <th>item</th>\n",
       "      <th>genre</th>\n",
       "    </tr>\n",
       "  </thead>\n",
       "  <tbody>\n",
       "    <tr>\n",
       "      <th>1001</th>\n",
       "      <td>34048</td>\n",
       "      <td>Action</td>\n",
       "    </tr>\n",
       "    <tr>\n",
       "      <th>1002</th>\n",
       "      <td>34048</td>\n",
       "      <td>Adventure</td>\n",
       "    </tr>\n",
       "    <tr>\n",
       "      <th>1003</th>\n",
       "      <td>34048</td>\n",
       "      <td>Sci-Fi</td>\n",
       "    </tr>\n",
       "    <tr>\n",
       "      <th>1004</th>\n",
       "      <td>34048</td>\n",
       "      <td>Thriller</td>\n",
       "    </tr>\n",
       "    <tr>\n",
       "      <th>4735</th>\n",
       "      <td>64997</td>\n",
       "      <td>Action</td>\n",
       "    </tr>\n",
       "    <tr>\n",
       "      <th>4736</th>\n",
       "      <td>64997</td>\n",
       "      <td>Sci-Fi</td>\n",
       "    </tr>\n",
       "  </tbody>\n",
       "</table>\n",
       "</div>"
      ],
      "text/plain": [
       "       item      genre\n",
       "1001  34048     Action\n",
       "1002  34048  Adventure\n",
       "1003  34048     Sci-Fi\n",
       "1004  34048   Thriller\n",
       "4735  64997     Action\n",
       "4736  64997     Sci-Fi"
      ]
     },
     "execution_count": 38,
     "metadata": {},
     "output_type": "execute_result"
    }
   ],
   "source": [
    "spe = genre_df['item'].isin([64997, 34048])\n",
    "genre_df[spe]"
   ]
  },
  {
   "cell_type": "code",
   "execution_count": 40,
   "id": "1146ff6f-515a-4d03-8157-27bf6e440a97",
   "metadata": {},
   "outputs": [
    {
     "data": {
      "text/html": [
       "<div>\n",
       "<style scoped>\n",
       "    .dataframe tbody tr th:only-of-type {\n",
       "        vertical-align: middle;\n",
       "    }\n",
       "\n",
       "    .dataframe tbody tr th {\n",
       "        vertical-align: top;\n",
       "    }\n",
       "\n",
       "    .dataframe thead th {\n",
       "        text-align: right;\n",
       "    }\n",
       "</style>\n",
       "<table border=\"1\" class=\"dataframe\">\n",
       "  <thead>\n",
       "    <tr style=\"text-align: right;\">\n",
       "      <th></th>\n",
       "      <th>item</th>\n",
       "      <th>writer</th>\n",
       "    </tr>\n",
       "  </thead>\n",
       "  <tbody>\n",
       "    <tr>\n",
       "      <th>4527</th>\n",
       "      <td>34048</td>\n",
       "      <td>nm0295264</td>\n",
       "    </tr>\n",
       "    <tr>\n",
       "      <th>6221</th>\n",
       "      <td>34048</td>\n",
       "      <td>nm0462895</td>\n",
       "    </tr>\n",
       "    <tr>\n",
       "      <th>10154</th>\n",
       "      <td>34048</td>\n",
       "      <td>nm0920229</td>\n",
       "    </tr>\n",
       "    <tr>\n",
       "      <th>10158</th>\n",
       "      <td>64997</td>\n",
       "      <td>nm0920229</td>\n",
       "    </tr>\n",
       "  </tbody>\n",
       "</table>\n",
       "</div>"
      ],
      "text/plain": [
       "        item     writer\n",
       "4527   34048  nm0295264\n",
       "6221   34048  nm0462895\n",
       "10154  34048  nm0920229\n",
       "10158  64997  nm0920229"
      ]
     },
     "execution_count": 40,
     "metadata": {},
     "output_type": "execute_result"
    }
   ],
   "source": [
    "spe = writer_df['item'].isin([64997, 34048])\n",
    "writer_df[spe]"
   ]
  },
  {
   "cell_type": "code",
   "execution_count": 41,
   "id": "8a141fe2-0176-4cdc-9342-ac52c87e3393",
   "metadata": {},
   "outputs": [
    {
     "data": {
      "text/html": [
       "<div>\n",
       "<style scoped>\n",
       "    .dataframe tbody tr th:only-of-type {\n",
       "        vertical-align: middle;\n",
       "    }\n",
       "\n",
       "    .dataframe tbody tr th {\n",
       "        vertical-align: top;\n",
       "    }\n",
       "\n",
       "    .dataframe thead th {\n",
       "        text-align: right;\n",
       "    }\n",
       "</style>\n",
       "<table border=\"1\" class=\"dataframe\">\n",
       "  <thead>\n",
       "    <tr style=\"text-align: right;\">\n",
       "      <th></th>\n",
       "      <th>item</th>\n",
       "      <th>director</th>\n",
       "    </tr>\n",
       "  </thead>\n",
       "  <tbody>\n",
       "    <tr>\n",
       "      <th>384</th>\n",
       "      <td>34048</td>\n",
       "      <td>nm0000229</td>\n",
       "    </tr>\n",
       "  </tbody>\n",
       "</table>\n",
       "</div>"
      ],
      "text/plain": [
       "      item   director\n",
       "384  34048  nm0000229"
      ]
     },
     "execution_count": 41,
     "metadata": {},
     "output_type": "execute_result"
    }
   ],
   "source": [
    "spe = director_df['item'].isin([64997, 34048])\n",
    "director_df[spe]"
   ]
  },
  {
   "cell_type": "code",
   "execution_count": 42,
   "id": "c8fdea39-0aee-48f4-9082-cd4c40d69f79",
   "metadata": {},
   "outputs": [
    {
     "data": {
      "text/html": [
       "<div>\n",
       "<style scoped>\n",
       "    .dataframe tbody tr th:only-of-type {\n",
       "        vertical-align: middle;\n",
       "    }\n",
       "\n",
       "    .dataframe tbody tr th {\n",
       "        vertical-align: top;\n",
       "    }\n",
       "\n",
       "    .dataframe thead th {\n",
       "        text-align: right;\n",
       "    }\n",
       "</style>\n",
       "<table border=\"1\" class=\"dataframe\">\n",
       "  <thead>\n",
       "    <tr style=\"text-align: right;\">\n",
       "      <th></th>\n",
       "      <th>item</th>\n",
       "      <th>year</th>\n",
       "    </tr>\n",
       "  </thead>\n",
       "  <tbody>\n",
       "    <tr>\n",
       "      <th>4751</th>\n",
       "      <td>34048</td>\n",
       "      <td>2005</td>\n",
       "    </tr>\n",
       "    <tr>\n",
       "      <th>4806</th>\n",
       "      <td>64997</td>\n",
       "      <td>2005</td>\n",
       "    </tr>\n",
       "  </tbody>\n",
       "</table>\n",
       "</div>"
      ],
      "text/plain": [
       "       item  year\n",
       "4751  34048  2005\n",
       "4806  64997  2005"
      ]
     },
     "execution_count": 42,
     "metadata": {},
     "output_type": "execute_result"
    }
   ],
   "source": [
    "spe = year_df['item'].isin([64997, 34048])\n",
    "year_df[spe]"
   ]
  },
  {
   "cell_type": "code",
   "execution_count": 54,
   "id": "a284afa5-f09a-44e2-b6f9-aa0b08650f35",
   "metadata": {},
   "outputs": [
    {
     "data": {
      "text/html": [
       "<div>\n",
       "<style scoped>\n",
       "    .dataframe tbody tr th:only-of-type {\n",
       "        vertical-align: middle;\n",
       "    }\n",
       "\n",
       "    .dataframe tbody tr th {\n",
       "        vertical-align: top;\n",
       "    }\n",
       "\n",
       "    .dataframe thead th {\n",
       "        text-align: right;\n",
       "    }\n",
       "</style>\n",
       "<table border=\"1\" class=\"dataframe\">\n",
       "  <thead>\n",
       "    <tr style=\"text-align: right;\">\n",
       "      <th></th>\n",
       "      <th>item</th>\n",
       "      <th>title</th>\n",
       "    </tr>\n",
       "  </thead>\n",
       "  <tbody>\n",
       "    <tr>\n",
       "      <th>349</th>\n",
       "      <td>34048</td>\n",
       "      <td>War of the Worlds (2005)</td>\n",
       "    </tr>\n",
       "    <tr>\n",
       "      <th>1926</th>\n",
       "      <td>64997</td>\n",
       "      <td>War of the Worlds (2005)</td>\n",
       "    </tr>\n",
       "  </tbody>\n",
       "</table>\n",
       "</div>"
      ],
      "text/plain": [
       "       item                     title\n",
       "349   34048  War of the Worlds (2005)\n",
       "1926  64997  War of the Worlds (2005)"
      ]
     },
     "execution_count": 54,
     "metadata": {},
     "output_type": "execute_result"
    }
   ],
   "source": [
    "spe = title_df['item'].isin([64997, 34048])\n",
    "title_df[spe]"
   ]
  },
  {
   "cell_type": "code",
   "execution_count": 43,
   "id": "4246d5b6-4b7e-47d1-bd3b-5501e4dc4fca",
   "metadata": {},
   "outputs": [
    {
     "data": {
      "text/html": [
       "<div>\n",
       "<style scoped>\n",
       "    .dataframe tbody tr th:only-of-type {\n",
       "        vertical-align: middle;\n",
       "    }\n",
       "\n",
       "    .dataframe tbody tr th {\n",
       "        vertical-align: top;\n",
       "    }\n",
       "\n",
       "    .dataframe thead th {\n",
       "        text-align: right;\n",
       "    }\n",
       "</style>\n",
       "<table border=\"1\" class=\"dataframe\">\n",
       "  <thead>\n",
       "    <tr style=\"text-align: right;\">\n",
       "      <th></th>\n",
       "      <th>user</th>\n",
       "      <th>item</th>\n",
       "      <th>time</th>\n",
       "    </tr>\n",
       "  </thead>\n",
       "  <tbody>\n",
       "    <tr>\n",
       "      <th>126</th>\n",
       "      <td>11</td>\n",
       "      <td>34048</td>\n",
       "      <td>1230788489</td>\n",
       "    </tr>\n",
       "    <tr>\n",
       "      <th>349</th>\n",
       "      <td>11</td>\n",
       "      <td>64997</td>\n",
       "      <td>1251170446</td>\n",
       "    </tr>\n",
       "    <tr>\n",
       "      <th>5630</th>\n",
       "      <td>208</td>\n",
       "      <td>34048</td>\n",
       "      <td>1157583328</td>\n",
       "    </tr>\n",
       "    <tr>\n",
       "      <th>7675</th>\n",
       "      <td>258</td>\n",
       "      <td>34048</td>\n",
       "      <td>1221520795</td>\n",
       "    </tr>\n",
       "    <tr>\n",
       "      <th>11320</th>\n",
       "      <td>367</td>\n",
       "      <td>34048</td>\n",
       "      <td>1120865002</td>\n",
       "    </tr>\n",
       "    <tr>\n",
       "      <th>...</th>\n",
       "      <td>...</td>\n",
       "      <td>...</td>\n",
       "      <td>...</td>\n",
       "    </tr>\n",
       "    <tr>\n",
       "      <th>5150174</th>\n",
       "      <td>138404</td>\n",
       "      <td>34048</td>\n",
       "      <td>1138010617</td>\n",
       "    </tr>\n",
       "    <tr>\n",
       "      <th>5150984</th>\n",
       "      <td>138414</td>\n",
       "      <td>34048</td>\n",
       "      <td>1386706180</td>\n",
       "    </tr>\n",
       "    <tr>\n",
       "      <th>5152924</th>\n",
       "      <td>138456</td>\n",
       "      <td>34048</td>\n",
       "      <td>1183783639</td>\n",
       "    </tr>\n",
       "    <tr>\n",
       "      <th>5153574</th>\n",
       "      <td>138472</td>\n",
       "      <td>34048</td>\n",
       "      <td>1194041076</td>\n",
       "    </tr>\n",
       "    <tr>\n",
       "      <th>5154459</th>\n",
       "      <td>138493</td>\n",
       "      <td>34048</td>\n",
       "      <td>1258390758</td>\n",
       "    </tr>\n",
       "  </tbody>\n",
       "</table>\n",
       "<p>3200 rows × 3 columns</p>\n",
       "</div>"
      ],
      "text/plain": [
       "           user   item        time\n",
       "126          11  34048  1230788489\n",
       "349          11  64997  1251170446\n",
       "5630        208  34048  1157583328\n",
       "7675        258  34048  1221520795\n",
       "11320       367  34048  1120865002\n",
       "...         ...    ...         ...\n",
       "5150174  138404  34048  1138010617\n",
       "5150984  138414  34048  1386706180\n",
       "5152924  138456  34048  1183783639\n",
       "5153574  138472  34048  1194041076\n",
       "5154459  138493  34048  1258390758\n",
       "\n",
       "[3200 rows x 3 columns]"
      ]
     },
     "execution_count": 43,
     "metadata": {},
     "output_type": "execute_result"
    }
   ],
   "source": [
    "spe = inter_df['item'].isin([64997, 34048])\n",
    "inter_df[spe]"
   ]
  },
  {
   "cell_type": "code",
   "execution_count": 57,
   "id": "487eb405-0b91-4d24-ba22-4f0a88a6637f",
   "metadata": {},
   "outputs": [
    {
     "name": "stdout",
     "output_type": "stream",
     "text": [
      "===================genres====================\n",
      "before -  (15933, 2)\n",
      "after -  (15931, 2)\n",
      "=============================================\n",
      "\n",
      "===================writers====================\n",
      "before -  (11306, 2)\n",
      "after -  (11305, 2)\n",
      "=============================================\n",
      "\n",
      "===================directors====================\n",
      "before -  (5905, 2)\n",
      "after -  (5905, 2)\n",
      "=============================================\n",
      "\n",
      "===================years====================\n",
      "before -  (6799, 2)\n",
      "after -  (6798, 2)\n",
      "=============================================\n",
      "\n",
      "===================titles====================\n",
      "before -  (6807, 2)\n",
      "after -  (6806, 2)\n",
      "=============================================\n",
      "\n",
      "===================interactions====================\n",
      "before -  (5154471, 3)\n",
      "after -  (5154293, 3)\n",
      "=============================================\n",
      "\n"
     ]
    }
   ],
   "source": [
    "# drop rows & save to path\n",
    "dfs = [genre_df, writer_df, director_df, year_df, title_df, inter_df]\n",
    "names = ['genres', 'writers', 'directors', 'years', 'titles', 'interactions']\n",
    "for name, df in zip(names, dfs):\n",
    "    print(f\"==================={name}====================\")\n",
    "    print(\"before - \", df.shape)\n",
    "    df = df.drop(index=df[df['item'] == 64997].index, inplace=False)\n",
    "    df.to_csv(path + name + '.csv', index=False)\n",
    "    print(\"after - \", df.shape)\n",
    "    print(\"=============================================\\n\")"
   ]
  },
  {
   "cell_type": "markdown",
   "id": "9218b61b-fbe5-40f4-ad5b-1a67be802557",
   "metadata": {
    "tags": []
   },
   "source": [
    "#### - 결측치 제거\n",
    "    1. genre -> x              2. year -> 8개(완료)\n",
    "    3. title -> x              4. director -> 1303개(불가)\n",
    "    5. writer -> 1159개(불가)    5. interaction -> 비교 기준"
   ]
  },
  {
   "cell_type": "code",
   "execution_count": 6,
   "id": "f026201e-6156-4312-8207-c7f7014fd56d",
   "metadata": {},
   "outputs": [],
   "source": [
    "# modified version\n",
    "data_path   = './data/tr_v1_dup_title'\n",
    "base        = 'v1_base'\n",
    "inter_df    = pd.read_csv(os.path.join(data_path, 'interactions.csv')) # 전체 학습 데이터\n",
    "genre_df    = pd.read_csv(join(data_path, 'genres.csv'))\n",
    "title_df    = pd.read_csv(join(data_path, 'titles.csv'))\n",
    "director_df = pd.read_csv(join(data_path, 'directors.csv'))\n",
    "writer_df   = pd.read_csv(join(data_path, 'writers.csv'))\n",
    "year_df     = pd.read_csv(join(data_path, 'years.csv'))"
   ]
  },
  {
   "cell_type": "code",
   "execution_count": 10,
   "id": "b2b79cdc-0af0-4f1d-8fc6-b6185fa51a61",
   "metadata": {},
   "outputs": [
    {
     "name": "stdout",
     "output_type": "stream",
     "text": [
      "years 전체 데이터: 6798 결측치: 8\n",
      "directors 전체 데이터: 5503 결측치: 1303\n",
      "writers 전체 데이터: 5647 결측치: 1159\n"
     ]
    }
   ],
   "source": [
    "# 1. explicit null\n",
    "dfs = [genre_df, year_df, title_df, director_df, writer_df, inter_df]\n",
    "names = ['genres', 'years', 'titles', 'directors', 'writers', 'interactions']\n",
    "\n",
    "for df, name in zip(dfs, names):\n",
    "    if df.isnull().sum().sum() != 0:\n",
    "        print(name)\n",
    "\n",
    "# 2. item.nunique() != 6806\n",
    "for df, name in zip(dfs, names):\n",
    "    uniq_items = df['item'].nunique()\n",
    "    diff = 6806-uniq_items\n",
    "    if uniq_items != 6806:\n",
    "        print(f\"{name} 전체 데이터: {uniq_items} 결측치: {diff}\")"
   ]
  },
  {
   "cell_type": "markdown",
   "id": "b0edb795-76c9-4e61-b03c-5cc88422d59e",
   "metadata": {
    "tags": []
   },
   "source": [
    "##### 결측치 채우기 (year) -> output: year_df"
   ]
  },
  {
   "cell_type": "code",
   "execution_count": 129,
   "id": "e0a8676a-3420-4680-9af0-4f0faabbbaf0",
   "metadata": {},
   "outputs": [
    {
     "name": "stdout",
     "output_type": "stream",
     "text": [
      "[32898, 119145, 6987, 6988, 7243, 3310, 7065, 8511]\n"
     ]
    },
    {
     "name": "stderr",
     "output_type": "stream",
     "text": [
      "/tmp/ipykernel_18734/896255664.py:15: FutureWarning: The frame.append method is deprecated and will be removed from pandas in a future version. Use pandas.concat instead.\n",
      "  year_df = year_df.append(new_df, ignore_index=True)\n"
     ]
    }
   ],
   "source": [
    "# 1. year_df에서 year 데이터가 없는 item list 뽑기\n",
    "ilist = list( set(inter_df.item.unique()) - set(year_df.item.unique()) )\n",
    "print(ilist)\n",
    "\n",
    "# 2. title_df에서 item list에 해당하는 item의 year 가져오기\n",
    "ylist = []\n",
    "for item in ilist:\n",
    "    row = title_df[title_df['item'] == item]\n",
    "    y = int(row.title.item()[-6:].strip('()'))\n",
    "    ylist.append(y)\n",
    "\n",
    "# 3. year_df에 populate\n",
    "data = list(zip(ilist, ylist))\n",
    "new_df = pd.DataFrame(data, columns=['item', 'year'])\n",
    "year_df = year_df.append(new_df, ignore_index=True)\n"
   ]
  },
  {
   "cell_type": "code",
   "execution_count": 147,
   "id": "0e5e2654-961f-4ebe-8684-b01d719c780e",
   "metadata": {},
   "outputs": [],
   "source": [
    "import os\n",
    "path = '/opt/ml/input/data/tr_v2_miss_year/'\n",
    "dfs = [genre_df, year_df, title_df, director_df, writer_df, inter_df]\n",
    "names = ['genres', 'years', 'titles', 'directors', 'writers', 'interactions']\n",
    "\n",
    "if not os.path.exists(path): os.mkdir(path)\n",
    "\n",
    "for df, name in zip(dfs, names):\n",
    "    df.to_csv(path + name + '.csv', index=False)"
   ]
  },
  {
   "cell_type": "code",
   "execution_count": null,
   "id": "3617f8dd-7494-4039-ba19-ec08ef591557",
   "metadata": {},
   "outputs": [],
   "source": []
  }
 ],
 "metadata": {
  "kernelspec": {
   "display_name": "Python 3 (ipykernel)",
   "language": "python",
   "name": "python3"
  },
  "language_info": {
   "codemirror_mode": {
    "name": "ipython",
    "version": 3
   },
   "file_extension": ".py",
   "mimetype": "text/x-python",
   "name": "python",
   "nbconvert_exporter": "python",
   "pygments_lexer": "ipython3",
   "version": "3.8.5"
  }
 },
 "nbformat": 4,
 "nbformat_minor": 5
}
